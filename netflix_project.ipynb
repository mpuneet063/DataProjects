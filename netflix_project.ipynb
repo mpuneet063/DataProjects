{
 "cells": [
  {
   "cell_type": "markdown",
   "id": "937acf3c-c077-4ca6-8d90-8f6dd4d13c54",
   "metadata": {},
   "source": [
    "<img src=\"https://freepngimg.com/download/logo/92929-nasdaqnflx-icons-netflix-computer-line-red.png\" style=\"display:block; margin:auto;\">"
   ]
  },
  {
   "cell_type": "markdown",
   "id": "5962b2cd-17bb-4ec9-b2d5-68537ca26860",
   "metadata": {},
   "source": [
    "# Netflix 1990s Movie Analysis Project\n",
    "This project explores the Netflix catalog to uncover trends and insights about movies and series released in the 1990s. Using real Netflix data, we perform exploratory data analysis to understand the characteristics of 90s entertainment, including genre distribution, movie durations, and the prevalence of different types of content.\n",
    "\n",
    "**Dataset Overview:**\n",
    "- **Source:** `netflix_data.csv`\n",
    "- **Rows:** Each row represents a unique movie or series available on Netflix.\n",
    "- **Key Columns:**\n",
    "    - `show_id`: Unique identifier for each title\n",
    "    - `type`: Movie or TV Show\n",
    "    - `title`: Name of the show or movie\n",
    "    - `director`, `cast`, `country`: Production details\n",
    "    - `date_added`: When the title was added to Netflix\n",
    "    - `release_year`: Year the title was released\n",
    "    - `duration`: Length of the movie or show\n",
    "    - `genre`: Genre classification\n",
    "    - `description`: Brief summary of the content\n",
    "\n",
    "**Project Goals:**\n",
    "- Focus on movies and series released between 1990 and 1999.\n",
    "- Analyze trends in genres, durations, and types of content from the 90s.\n",
    "- Provide visual and statistical summaries to highlight what made 90s entertainment unique on Netflix.\n",
    "\n",
    "This analysis will help a production company specializing in nostalgic styles to better understand the landscape of 1990s media and inform future creative decisions."
   ]
  },
  {
   "cell_type": "code",
   "execution_count": 1,
   "id": "320a3abc-8a36-4b2b-baaf-473325363a4d",
   "metadata": {
    "executionCancelledAt": null,
    "executionTime": 54,
    "lastExecutedAt": 1756486534152,
    "lastExecutedByKernel": "80fa1894-7738-4dca-9229-acbd35e1dd08",
    "lastScheduledRunId": null,
    "lastSuccessfullyExecutedCode": "# Importing pandas and matplotlib\nimport pandas as pd\nimport matplotlib.pyplot as plt\nimport seaborn as sns\n\n# Read in the Netflix CSV as a DataFrame\nnetflix_df = pd.read_csv(\"netflix_data.csv\")"
   },
   "outputs": [],
   "source": [
    "# Importing pandas and matplotlib\n",
    "import pandas as pd\n",
    "import matplotlib.pyplot as plt\n",
    "import seaborn as sns\n",
    "\n",
    "# Read in the Netflix CSV as a DataFrame\n",
    "netflix_df = pd.read_csv(\"netflix_data.csv\")"
   ]
  },
  {
   "cell_type": "code",
   "execution_count": 2,
   "id": "37e46a41-3b2b-4c0a-8a3c-dfdd29e8a63f",
   "metadata": {
    "executionCancelledAt": null,
    "executionTime": 60,
    "lastExecutedAt": 1756486534213,
    "lastExecutedByKernel": "80fa1894-7738-4dca-9229-acbd35e1dd08",
    "lastScheduledRunId": null,
    "lastSuccessfullyExecutedCode": "netflix_df.head()",
    "outputsMetadata": {
     "0": {
      "chartState": {
       "activeTab": "settings",
       "chartModel": {
        "cellRange": {
         "columns": [],
         "rowEndIndex": null,
         "rowEndPinned": null,
         "rowStartIndex": null,
         "rowStartPinned": null
        },
        "chartId": "id-h7vyp3y9t2w",
        "chartOptions": {
         "common": {
          "animation": {
           "enabled": true
          }
         }
        },
        "chartPalette": {
         "altDown": {
          "fill": "#ffa03a",
          "stroke": "#cc6f10"
         },
         "altNeutral": {
          "fill": "#b5b5b5",
          "stroke": "#575757"
         },
         "altUp": {
          "fill": "#5090dc",
          "stroke": "#2b5c95"
         },
         "down": {
          "fill": "#ef5452",
          "stroke": "#a82529"
         },
         "fills": [
          "#6568A0",
          "#43D7A4",
          "#4095DB",
          "#FACC5F",
          "#CAE279",
          "#F08083",
          "#5BCDF2",
          "#F099DC",
          "#965858",
          "#7DB64F",
          "#A98954"
         ],
         "neutral": {
          "fill": "#b5b5b5",
          "stroke": "#575757"
         },
         "strokes": [
          "#6568A0",
          "#43D7A4",
          "#4095DB",
          "#FACC5F",
          "#CAE279",
          "#F08083",
          "#5BCDF2",
          "#F099DC",
          "#965858",
          "#7DB64F",
          "#A98954"
         ],
         "up": {
          "fill": "#459d55",
          "stroke": "#1e652e"
         }
        },
        "chartThemeName": "datalabTheme",
        "chartType": "groupedColumn",
        "modelType": "range",
        "suppressChartRanges": false,
        "switchCategorySeries": false,
        "unlinkChart": false,
        "version": "32.2.2"
       },
       "rangeChartModel": {
        "rangeColumns": [],
        "switchCategorySeries": false
       }
      },
      "height": 550,
      "tableState": {
       "customFilter": {
        "const": {
         "type": "boolean",
         "valid": true,
         "value": true
        },
        "id": "d8ef26a6-01b3-4423-af4e-829943f2e25c",
        "nodeType": "const"
       }
      },
      "type": "dataFrame"
     }
    },
    "version": "ag-charts-v1",
    "visualizeDataframe": false
   },
   "outputs": [
    {
     "data": {
      "text/html": [
       "<div>\n",
       "<style scoped>\n",
       "    .dataframe tbody tr th:only-of-type {\n",
       "        vertical-align: middle;\n",
       "    }\n",
       "\n",
       "    .dataframe tbody tr th {\n",
       "        vertical-align: top;\n",
       "    }\n",
       "\n",
       "    .dataframe thead th {\n",
       "        text-align: right;\n",
       "    }\n",
       "</style>\n",
       "<table border=\"1\" class=\"dataframe\">\n",
       "  <thead>\n",
       "    <tr style=\"text-align: right;\">\n",
       "      <th></th>\n",
       "      <th>show_id</th>\n",
       "      <th>type</th>\n",
       "      <th>title</th>\n",
       "      <th>director</th>\n",
       "      <th>cast</th>\n",
       "      <th>country</th>\n",
       "      <th>date_added</th>\n",
       "      <th>release_year</th>\n",
       "      <th>duration</th>\n",
       "      <th>description</th>\n",
       "      <th>genre</th>\n",
       "    </tr>\n",
       "  </thead>\n",
       "  <tbody>\n",
       "    <tr>\n",
       "      <th>0</th>\n",
       "      <td>s2</td>\n",
       "      <td>Movie</td>\n",
       "      <td>7:19</td>\n",
       "      <td>Jorge Michel Grau</td>\n",
       "      <td>Demián Bichir, Héctor Bonilla, Oscar Serrano, ...</td>\n",
       "      <td>Mexico</td>\n",
       "      <td>December 23, 2016</td>\n",
       "      <td>2016</td>\n",
       "      <td>93</td>\n",
       "      <td>After a devastating earthquake hits Mexico Cit...</td>\n",
       "      <td>Dramas</td>\n",
       "    </tr>\n",
       "    <tr>\n",
       "      <th>1</th>\n",
       "      <td>s3</td>\n",
       "      <td>Movie</td>\n",
       "      <td>23:59</td>\n",
       "      <td>Gilbert Chan</td>\n",
       "      <td>Tedd Chan, Stella Chung, Henley Hii, Lawrence ...</td>\n",
       "      <td>Singapore</td>\n",
       "      <td>December 20, 2018</td>\n",
       "      <td>2011</td>\n",
       "      <td>78</td>\n",
       "      <td>When an army recruit is found dead, his fellow...</td>\n",
       "      <td>Horror Movies</td>\n",
       "    </tr>\n",
       "    <tr>\n",
       "      <th>2</th>\n",
       "      <td>s4</td>\n",
       "      <td>Movie</td>\n",
       "      <td>9</td>\n",
       "      <td>Shane Acker</td>\n",
       "      <td>Elijah Wood, John C. Reilly, Jennifer Connelly...</td>\n",
       "      <td>United States</td>\n",
       "      <td>November 16, 2017</td>\n",
       "      <td>2009</td>\n",
       "      <td>80</td>\n",
       "      <td>In a postapocalyptic world, rag-doll robots hi...</td>\n",
       "      <td>Action</td>\n",
       "    </tr>\n",
       "    <tr>\n",
       "      <th>3</th>\n",
       "      <td>s5</td>\n",
       "      <td>Movie</td>\n",
       "      <td>21</td>\n",
       "      <td>Robert Luketic</td>\n",
       "      <td>Jim Sturgess, Kevin Spacey, Kate Bosworth, Aar...</td>\n",
       "      <td>United States</td>\n",
       "      <td>January 1, 2020</td>\n",
       "      <td>2008</td>\n",
       "      <td>123</td>\n",
       "      <td>A brilliant group of students become card-coun...</td>\n",
       "      <td>Dramas</td>\n",
       "    </tr>\n",
       "    <tr>\n",
       "      <th>4</th>\n",
       "      <td>s6</td>\n",
       "      <td>TV Show</td>\n",
       "      <td>46</td>\n",
       "      <td>Serdar Akar</td>\n",
       "      <td>Erdal Beşikçioğlu, Yasemin Allen, Melis Birkan...</td>\n",
       "      <td>Turkey</td>\n",
       "      <td>July 1, 2017</td>\n",
       "      <td>2016</td>\n",
       "      <td>1</td>\n",
       "      <td>A genetics professor experiments with a treatm...</td>\n",
       "      <td>International TV</td>\n",
       "    </tr>\n",
       "  </tbody>\n",
       "</table>\n",
       "</div>"
      ],
      "text/plain": [
       "  show_id     type  title           director  \\\n",
       "0      s2    Movie   7:19  Jorge Michel Grau   \n",
       "1      s3    Movie  23:59       Gilbert Chan   \n",
       "2      s4    Movie      9        Shane Acker   \n",
       "3      s5    Movie     21     Robert Luketic   \n",
       "4      s6  TV Show     46        Serdar Akar   \n",
       "\n",
       "                                                cast        country  \\\n",
       "0  Demián Bichir, Héctor Bonilla, Oscar Serrano, ...         Mexico   \n",
       "1  Tedd Chan, Stella Chung, Henley Hii, Lawrence ...      Singapore   \n",
       "2  Elijah Wood, John C. Reilly, Jennifer Connelly...  United States   \n",
       "3  Jim Sturgess, Kevin Spacey, Kate Bosworth, Aar...  United States   \n",
       "4  Erdal Beşikçioğlu, Yasemin Allen, Melis Birkan...         Turkey   \n",
       "\n",
       "          date_added  release_year  duration  \\\n",
       "0  December 23, 2016          2016        93   \n",
       "1  December 20, 2018          2011        78   \n",
       "2  November 16, 2017          2009        80   \n",
       "3    January 1, 2020          2008       123   \n",
       "4       July 1, 2017          2016         1   \n",
       "\n",
       "                                         description             genre  \n",
       "0  After a devastating earthquake hits Mexico Cit...            Dramas  \n",
       "1  When an army recruit is found dead, his fellow...     Horror Movies  \n",
       "2  In a postapocalyptic world, rag-doll robots hi...            Action  \n",
       "3  A brilliant group of students become card-coun...            Dramas  \n",
       "4  A genetics professor experiments with a treatm...  International TV  "
      ]
     },
     "execution_count": 2,
     "metadata": {},
     "output_type": "execute_result"
    }
   ],
   "source": [
    "netflix_df.head()"
   ]
  },
  {
   "cell_type": "code",
   "execution_count": 3,
   "id": "4514e8eb-6bae-4c2e-a2c3-6ac248a0c2f2",
   "metadata": {
    "executionCancelledAt": null,
    "executionTime": 53,
    "lastExecutedAt": 1756486534266,
    "lastExecutedByKernel": "80fa1894-7738-4dca-9229-acbd35e1dd08",
    "lastScheduledRunId": null,
    "lastSuccessfullyExecutedCode": "netflix_df.iloc[:,1:].describe()",
    "outputsMetadata": {
     "0": {
      "height": 550,
      "tableState": {
       "customFilter": {
        "const": {
         "type": "boolean",
         "valid": true,
         "value": true
        },
        "id": "d8ef26a6-01b3-4423-af4e-829943f2e25c",
        "nodeType": "const"
       }
      },
      "type": "dataFrame"
     }
    }
   },
   "outputs": [
    {
     "data": {
      "text/html": [
       "<div>\n",
       "<style scoped>\n",
       "    .dataframe tbody tr th:only-of-type {\n",
       "        vertical-align: middle;\n",
       "    }\n",
       "\n",
       "    .dataframe tbody tr th {\n",
       "        vertical-align: top;\n",
       "    }\n",
       "\n",
       "    .dataframe thead th {\n",
       "        text-align: right;\n",
       "    }\n",
       "</style>\n",
       "<table border=\"1\" class=\"dataframe\">\n",
       "  <thead>\n",
       "    <tr style=\"text-align: right;\">\n",
       "      <th></th>\n",
       "      <th>release_year</th>\n",
       "      <th>duration</th>\n",
       "    </tr>\n",
       "  </thead>\n",
       "  <tbody>\n",
       "    <tr>\n",
       "      <th>count</th>\n",
       "      <td>4812.000000</td>\n",
       "      <td>4812.000000</td>\n",
       "    </tr>\n",
       "    <tr>\n",
       "      <th>mean</th>\n",
       "      <td>2012.711554</td>\n",
       "      <td>99.566708</td>\n",
       "    </tr>\n",
       "    <tr>\n",
       "      <th>std</th>\n",
       "      <td>9.517978</td>\n",
       "      <td>30.889305</td>\n",
       "    </tr>\n",
       "    <tr>\n",
       "      <th>min</th>\n",
       "      <td>1942.000000</td>\n",
       "      <td>1.000000</td>\n",
       "    </tr>\n",
       "    <tr>\n",
       "      <th>25%</th>\n",
       "      <td>2011.000000</td>\n",
       "      <td>88.000000</td>\n",
       "    </tr>\n",
       "    <tr>\n",
       "      <th>50%</th>\n",
       "      <td>2016.000000</td>\n",
       "      <td>99.000000</td>\n",
       "    </tr>\n",
       "    <tr>\n",
       "      <th>75%</th>\n",
       "      <td>2018.000000</td>\n",
       "      <td>116.000000</td>\n",
       "    </tr>\n",
       "    <tr>\n",
       "      <th>max</th>\n",
       "      <td>2021.000000</td>\n",
       "      <td>253.000000</td>\n",
       "    </tr>\n",
       "  </tbody>\n",
       "</table>\n",
       "</div>"
      ],
      "text/plain": [
       "       release_year     duration\n",
       "count   4812.000000  4812.000000\n",
       "mean    2012.711554    99.566708\n",
       "std        9.517978    30.889305\n",
       "min     1942.000000     1.000000\n",
       "25%     2011.000000    88.000000\n",
       "50%     2016.000000    99.000000\n",
       "75%     2018.000000   116.000000\n",
       "max     2021.000000   253.000000"
      ]
     },
     "execution_count": 3,
     "metadata": {},
     "output_type": "execute_result"
    }
   ],
   "source": [
    "netflix_df.iloc[:,1:].describe()"
   ]
  },
  {
   "cell_type": "code",
   "execution_count": 4,
   "id": "33db61c4-c428-455d-bcd0-02d79471dc2b",
   "metadata": {
    "executionCancelledAt": null,
    "executionTime": null,
    "lastExecutedAt": null,
    "lastExecutedByKernel": null,
    "lastScheduledRunId": null,
    "lastSuccessfullyExecutedCode": null,
    "outputsMetadata": {
     "0": {
      "height": 550,
      "tableState": {},
      "type": "dataFrame"
     },
     "1": {
      "height": 50,
      "tableState": {
       "customFilter": {
        "const": {
         "type": "boolean",
         "valid": true,
         "value": true
        },
        "id": "71e918fd-e458-4677-b75f-92fa316698b2",
        "nodeType": "const"
       }
      },
      "type": "dataFrame"
     }
    }
   },
   "outputs": [
    {
     "data": {
      "text/html": [
       "<div>\n",
       "<style scoped>\n",
       "    .dataframe tbody tr th:only-of-type {\n",
       "        vertical-align: middle;\n",
       "    }\n",
       "\n",
       "    .dataframe tbody tr th {\n",
       "        vertical-align: top;\n",
       "    }\n",
       "\n",
       "    .dataframe thead th {\n",
       "        text-align: right;\n",
       "    }\n",
       "</style>\n",
       "<table border=\"1\" class=\"dataframe\">\n",
       "  <thead>\n",
       "    <tr style=\"text-align: right;\">\n",
       "      <th></th>\n",
       "      <th>title</th>\n",
       "      <th>release_year</th>\n",
       "      <th>duration</th>\n",
       "      <th>type</th>\n",
       "      <th>genre</th>\n",
       "    </tr>\n",
       "  </thead>\n",
       "  <tbody>\n",
       "    <tr>\n",
       "      <th>6</th>\n",
       "      <td>187</td>\n",
       "      <td>1997</td>\n",
       "      <td>119</td>\n",
       "      <td>Movie</td>\n",
       "      <td>Dramas</td>\n",
       "    </tr>\n",
       "    <tr>\n",
       "      <th>118</th>\n",
       "      <td>A Dangerous Woman</td>\n",
       "      <td>1993</td>\n",
       "      <td>101</td>\n",
       "      <td>Movie</td>\n",
       "      <td>Dramas</td>\n",
       "    </tr>\n",
       "    <tr>\n",
       "      <th>145</th>\n",
       "      <td>A Night at the Roxbury</td>\n",
       "      <td>1998</td>\n",
       "      <td>82</td>\n",
       "      <td>Movie</td>\n",
       "      <td>Comedies</td>\n",
       "    </tr>\n",
       "    <tr>\n",
       "      <th>167</th>\n",
       "      <td>A Thin Line Between Love &amp; Hate</td>\n",
       "      <td>1996</td>\n",
       "      <td>108</td>\n",
       "      <td>Movie</td>\n",
       "      <td>Comedies</td>\n",
       "    </tr>\n",
       "    <tr>\n",
       "      <th>194</th>\n",
       "      <td>Aashik Awara</td>\n",
       "      <td>1993</td>\n",
       "      <td>154</td>\n",
       "      <td>Movie</td>\n",
       "      <td>Dramas</td>\n",
       "    </tr>\n",
       "    <tr>\n",
       "      <th>240</th>\n",
       "      <td>Agneepath</td>\n",
       "      <td>1990</td>\n",
       "      <td>174</td>\n",
       "      <td>Movie</td>\n",
       "      <td>Dramas</td>\n",
       "    </tr>\n",
       "    <tr>\n",
       "      <th>315</th>\n",
       "      <td>American Beauty</td>\n",
       "      <td>1999</td>\n",
       "      <td>122</td>\n",
       "      <td>Movie</td>\n",
       "      <td>Dramas</td>\n",
       "    </tr>\n",
       "    <tr>\n",
       "      <th>320</th>\n",
       "      <td>American History X</td>\n",
       "      <td>1998</td>\n",
       "      <td>119</td>\n",
       "      <td>Movie</td>\n",
       "      <td>Dramas</td>\n",
       "    </tr>\n",
       "    <tr>\n",
       "      <th>333</th>\n",
       "      <td>An American Tail: Fievel Goes West</td>\n",
       "      <td>1991</td>\n",
       "      <td>75</td>\n",
       "      <td>Movie</td>\n",
       "      <td>Children</td>\n",
       "    </tr>\n",
       "    <tr>\n",
       "      <th>334</th>\n",
       "      <td>An American Tail: The Mystery of the Night Mon...</td>\n",
       "      <td>1999</td>\n",
       "      <td>75</td>\n",
       "      <td>Movie</td>\n",
       "      <td>Children</td>\n",
       "    </tr>\n",
       "  </tbody>\n",
       "</table>\n",
       "</div>"
      ],
      "text/plain": [
       "                                                 title  release_year  \\\n",
       "6                                                  187          1997   \n",
       "118                                  A Dangerous Woman          1993   \n",
       "145                             A Night at the Roxbury          1998   \n",
       "167                    A Thin Line Between Love & Hate          1996   \n",
       "194                                       Aashik Awara          1993   \n",
       "240                                          Agneepath          1990   \n",
       "315                                    American Beauty          1999   \n",
       "320                                 American History X          1998   \n",
       "333                 An American Tail: Fievel Goes West          1991   \n",
       "334  An American Tail: The Mystery of the Night Mon...          1999   \n",
       "\n",
       "     duration   type     genre  \n",
       "6         119  Movie    Dramas  \n",
       "118       101  Movie    Dramas  \n",
       "145        82  Movie  Comedies  \n",
       "167       108  Movie  Comedies  \n",
       "194       154  Movie    Dramas  \n",
       "240       174  Movie    Dramas  \n",
       "315       122  Movie    Dramas  \n",
       "320       119  Movie    Dramas  \n",
       "333        75  Movie  Children  \n",
       "334        75  Movie  Children  "
      ]
     },
     "execution_count": 4,
     "metadata": {},
     "output_type": "execute_result"
    }
   ],
   "source": [
    "df_90s = netflix_df.loc[(netflix_df['release_year']>= 1990) & (netflix_df['release_year']<=1999), ['title','release_year', 'duration', 'type', 'genre']]\n",
    "\n",
    "df_90s.head(10)"
   ]
  },
  {
   "cell_type": "code",
   "execution_count": 5,
   "id": "dea0ff5a-132d-4460-9265-163cf297b181",
   "metadata": {
    "executionCancelledAt": null,
    "executionTime": null,
    "lastExecutedAt": null,
    "lastExecutedByKernel": null,
    "lastScheduledRunId": null,
    "lastSuccessfullyExecutedCode": null,
    "outputsMetadata": {
     "0": {
      "height": 550,
      "tableState": {
       "customFilter": {
        "const": {
         "type": "boolean",
         "valid": true,
         "value": true
        },
        "id": "71e918fd-e458-4677-b75f-92fa316698b2",
        "nodeType": "const"
       }
      },
      "type": "dataFrame"
     }
    }
   },
   "outputs": [
    {
     "data": {
      "text/html": [
       "<div>\n",
       "<style scoped>\n",
       "    .dataframe tbody tr th:only-of-type {\n",
       "        vertical-align: middle;\n",
       "    }\n",
       "\n",
       "    .dataframe tbody tr th {\n",
       "        vertical-align: top;\n",
       "    }\n",
       "\n",
       "    .dataframe thead th {\n",
       "        text-align: right;\n",
       "    }\n",
       "</style>\n",
       "<table border=\"1\" class=\"dataframe\">\n",
       "  <thead>\n",
       "    <tr style=\"text-align: right;\">\n",
       "      <th></th>\n",
       "      <th>release_year</th>\n",
       "      <th>duration</th>\n",
       "    </tr>\n",
       "  </thead>\n",
       "  <tbody>\n",
       "    <tr>\n",
       "      <th>count</th>\n",
       "      <td>184.000000</td>\n",
       "      <td>184.000000</td>\n",
       "    </tr>\n",
       "    <tr>\n",
       "      <th>mean</th>\n",
       "      <td>1995.130435</td>\n",
       "      <td>114.500000</td>\n",
       "    </tr>\n",
       "    <tr>\n",
       "      <th>std</th>\n",
       "      <td>2.944727</td>\n",
       "      <td>34.163221</td>\n",
       "    </tr>\n",
       "    <tr>\n",
       "      <th>min</th>\n",
       "      <td>1990.000000</td>\n",
       "      <td>1.000000</td>\n",
       "    </tr>\n",
       "    <tr>\n",
       "      <th>25%</th>\n",
       "      <td>1993.000000</td>\n",
       "      <td>94.000000</td>\n",
       "    </tr>\n",
       "    <tr>\n",
       "      <th>50%</th>\n",
       "      <td>1996.000000</td>\n",
       "      <td>108.000000</td>\n",
       "    </tr>\n",
       "    <tr>\n",
       "      <th>75%</th>\n",
       "      <td>1998.000000</td>\n",
       "      <td>136.000000</td>\n",
       "    </tr>\n",
       "    <tr>\n",
       "      <th>max</th>\n",
       "      <td>1999.000000</td>\n",
       "      <td>195.000000</td>\n",
       "    </tr>\n",
       "  </tbody>\n",
       "</table>\n",
       "</div>"
      ],
      "text/plain": [
       "       release_year    duration\n",
       "count    184.000000  184.000000\n",
       "mean    1995.130435  114.500000\n",
       "std        2.944727   34.163221\n",
       "min     1990.000000    1.000000\n",
       "25%     1993.000000   94.000000\n",
       "50%     1996.000000  108.000000\n",
       "75%     1998.000000  136.000000\n",
       "max     1999.000000  195.000000"
      ]
     },
     "execution_count": 5,
     "metadata": {},
     "output_type": "execute_result"
    }
   ],
   "source": [
    "df_90s.describe()"
   ]
  },
  {
   "cell_type": "code",
   "execution_count": 6,
   "id": "f72ce897-939d-4a1c-b862-3dabc13c3b43",
   "metadata": {
    "executionCancelledAt": null,
    "executionTime": 51,
    "lastExecutedAt": 1756486721908,
    "lastExecutedByKernel": "80fa1894-7738-4dca-9229-acbd35e1dd08",
    "lastScheduledRunId": null,
    "lastSuccessfullyExecutedCode": "duration = df_90s['duration'].mode()[0]\nduration"
   },
   "outputs": [
    {
     "data": {
      "text/plain": [
       "94"
      ]
     },
     "execution_count": 6,
     "metadata": {},
     "output_type": "execute_result"
    }
   ],
   "source": [
    "duration = df_90s['duration'].mode()[0]\n",
    "duration"
   ]
  },
  {
   "cell_type": "code",
   "execution_count": 7,
   "id": "71ac7c7b-3a72-4a3a-89a1-c052506db920",
   "metadata": {
    "executionCancelledAt": null,
    "executionTime": null,
    "lastExecutedAt": null,
    "lastExecutedByKernel": null,
    "lastScheduledRunId": null,
    "lastSuccessfullyExecutedCode": null,
    "outputsMetadata": {
     "0": {
      "height": 248,
      "tableState": {
       "customFilter": {
        "const": {
         "type": "boolean",
         "valid": true,
         "value": true
        },
        "id": "b65694ab-4298-4185-b0f0-603583a2a957",
        "nodeType": "const"
       }
      },
      "type": "dataFrame"
     }
    }
   },
   "outputs": [
    {
     "data": {
      "text/html": [
       "<div>\n",
       "<style scoped>\n",
       "    .dataframe tbody tr th:only-of-type {\n",
       "        vertical-align: middle;\n",
       "    }\n",
       "\n",
       "    .dataframe tbody tr th {\n",
       "        vertical-align: top;\n",
       "    }\n",
       "\n",
       "    .dataframe thead th {\n",
       "        text-align: right;\n",
       "    }\n",
       "</style>\n",
       "<table border=\"1\" class=\"dataframe\">\n",
       "  <thead>\n",
       "    <tr style=\"text-align: right;\">\n",
       "      <th></th>\n",
       "      <th>title</th>\n",
       "      <th>release_year</th>\n",
       "      <th>duration</th>\n",
       "      <th>type</th>\n",
       "      <th>genre</th>\n",
       "    </tr>\n",
       "  </thead>\n",
       "  <tbody>\n",
       "    <tr>\n",
       "      <th>3943</th>\n",
       "      <td>The End of Evangelion</td>\n",
       "      <td>1997</td>\n",
       "      <td>87</td>\n",
       "      <td>Movie</td>\n",
       "      <td>Action</td>\n",
       "    </tr>\n",
       "    <tr>\n",
       "      <th>4124</th>\n",
       "      <td>The Mad Monk</td>\n",
       "      <td>1993</td>\n",
       "      <td>85</td>\n",
       "      <td>Movie</td>\n",
       "      <td>Comedies</td>\n",
       "    </tr>\n",
       "    <tr>\n",
       "      <th>4252</th>\n",
       "      <td>The Rugrats Movie</td>\n",
       "      <td>1998</td>\n",
       "      <td>81</td>\n",
       "      <td>Movie</td>\n",
       "      <td>Children</td>\n",
       "    </tr>\n",
       "    <tr>\n",
       "      <th>4347</th>\n",
       "      <td>The Waterboy</td>\n",
       "      <td>1998</td>\n",
       "      <td>90</td>\n",
       "      <td>Movie</td>\n",
       "      <td>Comedies</td>\n",
       "    </tr>\n",
       "    <tr>\n",
       "      <th>4411</th>\n",
       "      <td>Tim Allen: Men Are Pigs</td>\n",
       "      <td>1990</td>\n",
       "      <td>30</td>\n",
       "      <td>Movie</td>\n",
       "      <td>Stand-Up</td>\n",
       "    </tr>\n",
       "  </tbody>\n",
       "</table>\n",
       "</div>"
      ],
      "text/plain": [
       "                        title  release_year  duration   type     genre\n",
       "3943    The End of Evangelion          1997        87  Movie    Action\n",
       "4124             The Mad Monk          1993        85  Movie  Comedies\n",
       "4252        The Rugrats Movie          1998        81  Movie  Children\n",
       "4347             The Waterboy          1998        90  Movie  Comedies\n",
       "4411  Tim Allen: Men Are Pigs          1990        30  Movie  Stand-Up"
      ]
     },
     "execution_count": 7,
     "metadata": {},
     "output_type": "execute_result"
    }
   ],
   "source": [
    "short_df = df_90s.loc[(df_90s['duration']<=90)]\n",
    "short_df.tail()"
   ]
  },
  {
   "cell_type": "code",
   "execution_count": 8,
   "id": "a9ca789b-f5a1-4a5f-9b21-d2e52924ca49",
   "metadata": {
    "executionCancelledAt": null,
    "executionTime": 15,
    "lastExecutedAt": 1756487019181,
    "lastExecutedByKernel": "80fa1894-7738-4dca-9229-acbd35e1dd08",
    "lastScheduledRunId": null,
    "lastSuccessfullyExecutedCode": "short_movie_count = short_df[(short_df['type']=='Movie')&(short_df['genre'] == 'Action')].shape[0]\nshort_movie_count"
   },
   "outputs": [
    {
     "data": {
      "text/plain": [
       "7"
      ]
     },
     "execution_count": 8,
     "metadata": {},
     "output_type": "execute_result"
    }
   ],
   "source": [
    "short_movie_count = short_df[(short_df['type']=='Movie')&(short_df['genre'] == 'Action')].shape[0]\n",
    "short_movie_count"
   ]
  },
  {
   "cell_type": "code",
   "execution_count": 9,
   "id": "d49f87b7-0456-439e-b0e9-cde90865543f",
   "metadata": {
    "executionCancelledAt": null,
    "executionTime": 530,
    "lastExecutedAt": 1756487636428,
    "lastExecutedByKernel": "80fa1894-7738-4dca-9229-acbd35e1dd08",
    "lastScheduledRunId": null,
    "lastSuccessfullyExecutedCode": "# Look at the duration of movies in the 90s as a hist plot\nplt.figure(figsize=(12,9))\nplt.hist(df_90s['duration'], bins=50, color='navy', edgecolor='white')\nplt.xlabel('Duration of Movies', fontsize=14)\nplt.ylabel('Number of Movies', fontsize = 14)\nplt.title(\"Duration of movies released in the 90s\", fontsize=16)\nplt.legend()\nplt.tight_layout()\nplt.show()"
   },
   "outputs": [
    {
     "name": "stderr",
     "output_type": "stream",
     "text": [
      "No artists with labels found to put in legend.  Note that artists whose label start with an underscore are ignored when legend() is called with no argument.\n"
     ]
    },
    {
     "data": {
      "image/png": "[encoded data removed]",
      "text/plain": [
       "<Figure size 1200x900 with 1 Axes>"
      ]
     },
     "metadata": {},
     "output_type": "display_data"
    }
   ],
   "source": [
    "# Look at the duration of movies in the 90s as a hist plot\n",
    "plt.figure(figsize=(12,9))\n",
    "plt.hist(df_90s['duration'], bins=50, color='navy', edgecolor='white')\n",
    "plt.xlabel('Duration of Movies', fontsize=14)\n",
    "plt.ylabel('Number of Movies', fontsize = 14)\n",
    "plt.title(\"Duration of movies released in the 90s\", fontsize=16)\n",
    "plt.legend()\n",
    "plt.tight_layout()\n",
    "plt.show()"
   ]
  },
  {
   "cell_type": "code",
   "execution_count": 13,
   "id": "ea377f02-3303-48d8-adeb-aabd0a294a65",
   "metadata": {
    "executionCancelledAt": null,
    "executionTime": 478,
    "lastExecutedAt": 1756488059198,
    "lastExecutedByKernel": "80fa1894-7738-4dca-9229-acbd35e1dd08",
    "lastScheduledRunId": null,
    "lastSuccessfullyExecutedCode": "# Genre distribution in the 90s\ncolors = sns.color_palette('colorblind')\ngenre_count = df_90s['genre'].value_counts()\nplt.figure(figsize=(12,9))\nplt.pie(genre_count.values,labels=genre_count.index, autopct=\"%1.1f%%\", startangle=90,shadow=True, colors=colors)\nplt.title(\"Distribution of the genres\", fontsize=16)\nplt.tight_layout()\nplt.show()"
   },
   "outputs": [
    {
     "data": {
      "image/png": "[encoded data removed]",
      "text/plain": [
       "<Figure size 1200x900 with 1 Axes>"
      ]
     },
     "metadata": {},
     "output_type": "display_data"
    }
   ],
   "source": [
    "# Genre distribution in the 90s\n",
    "colors = sns.color_palette('colorblind')\n",
    "genre_count = df_90s['genre'].value_counts()\n",
    "top_n = 8  # Show top 8 genres, group the rest as 'Other'\n",
    "if len(genre_count) > top_n:\n",
    "    top_genres = genre_count[:top_n]\n",
    "    other = pd.Series([genre_count[top_n:].sum()], index=['Other'])\n",
    "    genre_count = pd.concat([top_genres, other])\n",
    "plt.figure(figsize=(12,9))\n",
    "plt.pie(\n",
    "    genre_count.values,\n",
    "    labels=genre_count.index,\n",
    "    autopct=\"%1.1f%%\",\n",
    "    startangle=90,\n",
    "    shadow=True,\n",
    "    colors=colors,\n",
    "    labeldistance=1.1,  # Move labels further out\n",
    "    pctdistance=0.7     # Move percentages closer to center\n",
    ")\n",
    "plt.title(\"Distribution of the genres\", fontsize=16)\n",
    "plt.tight_layout()\n",
    "plt.show()"
   ]
  },
  {
   "cell_type": "code",
   "execution_count": 11,
   "id": "a9615319-17ab-4031-906d-560bc5d503ba",
   "metadata": {
    "executionCancelledAt": null,
    "executionTime": 389,
    "lastExecutedAt": 1756488226896,
    "lastExecutedByKernel": "80fa1894-7738-4dca-9229-acbd35e1dd08",
    "lastScheduledRunId": null,
    "lastSuccessfullyExecutedCode": "type_count = df_90s['type'].value_counts()\nplt.figure(figsize=(12,9))\nplt.pie(\n    type_count.values,\n    labels=type_count.index,\n    autopct=\"%1.1f%%\",    # show percentages\n    startangle=90,        # start from top\n    colors=colors,\n    wedgeprops={'width':0.6}, \n    textprops={'fontsize':14}\n)\n\nplt.title(\"Distribution of Type\")\nplt.tight_layout()\nplt.show()\n"
   },
   "outputs": [
    {
     "data": {
      "image/png": "[encoded data removed]",
      "text/plain": [
       "<Figure size 1200x900 with 1 Axes>"
      ]
     },
     "metadata": {},
     "output_type": "display_data"
    }
   ],
   "source": [
    "type_count = df_90s['type'].value_counts()\n",
    "plt.figure(figsize=(12,9))\n",
    "plt.pie(\n",
    "    type_count.values,\n",
    "    labels=type_count.index,\n",
    "    autopct=\"%1.1f%%\",    # show percentages\n",
    "    startangle=90,        # start from top\n",
    "    colors=colors,\n",
    "    wedgeprops={'width':0.6}, \n",
    "    textprops={'fontsize':14}\n",
    ")\n",
    "\n",
    "plt.title(\"Distribution of Type\")\n",
    "plt.tight_layout()\n",
    "plt.show()\n"
   ]
  },
  {
   "cell_type": "code",
   "execution_count": 12,
   "id": "4bdabf38-6768-4e72-83f9-7b359d6096c0",
   "metadata": {
    "executionCancelledAt": null,
    "executionTime": 50,
    "lastExecutedAt": 1756488476136,
    "lastExecutedByKernel": "80fa1894-7738-4dca-9229-acbd35e1dd08",
    "lastScheduledRunId": null,
    "lastSuccessfullyExecutedCode": "from IPython.display import display, HTML\n\n# Example stats (replace with your actual computed values)\ntotal_media = len(netflix_df)\nnineties_media = len(df_90s)\nmost_freq_duration = netflix_df[\"duration\"].mode()[0]\nshort_movies = len(short_df)\ntop_genres = netflix_df[\"genre\"].value_counts().head(3).index.tolist()\n\n# Create HTML box\nhtml_box = f\"\"\"\n<div style=\"\n    border: 2px solid #4CAF50;\n    border-radius: 10px;\n    padding: 15px;\n    background-color: #f9f9f9;\n    font-family: Arial, sans-serif;\n    width: 60%;\n    margin: 20px auto;\n    box-shadow: 2px 2px 8px rgba(0,0,0,0.1);\n\">\n  <h3 style=\"color:#4CAF50; text-align:center;\">📊 Netflix Data Summary</h3>\n  <ul style=\"line-height:1.8; font-size:14px;\">\n    <li><b>Total media on Netflix:</b> {total_media}</li>\n    <li><b>Media released in the 90s:</b> {nineties_media}</li>\n    <li><b>Most frequent movie duration:</b> {most_freq_duration}</li>\n    <li><b>Number of short movies:</b> {short_movies}</li>\n    <li><b>Top 3 genres:</b> {\", \".join(top_genres)}</li>\n  </ul>\n</div>\n\"\"\"\n\ndisplay(HTML(html_box))\n"
   },
   "outputs": [
    {
     "data": {
      "text/html": [
       "\n",
       "<div style=\"\n",
       "    border: 2px solid #4CAF50;\n",
       "    border-radius: 10px;\n",
       "    padding: 15px;\n",
       "    background-color: #f9f9f9;\n",
       "    font-family: Arial, sans-serif;\n",
       "    width: 75%;\n",
       "    margin: 20px auto;\n",
       "    box-shadow: 2px 2px 8px rgba(0,0,0,0.1);\n",
       "\">\n",
       "  <h3 style=\"color:#4CAF50; text-align:center;\">📊 Netflix Data Summary</h3>\n",
       "  <ul style=\"line-height:1.8; font-size:16px;\">\n",
       "    <li><b>Total media on Netflix:</b> 4812</li>\n",
       "    <li><b>Media released in the 90s:</b> 184</li>\n",
       "    <li><b>Most frequent movie duration:</b> 93</li>\n",
       "    <li><b>Number of short movies:</b> 37</li>\n",
       "    <li><b>Top 3 genres:</b> Dramas, Comedies, Action</li>\n",
       "  </ul>\n",
       "</div>\n"
      ],
      "text/plain": [
       "<IPython.core.display.HTML object>"
      ]
     },
     "metadata": {},
     "output_type": "display_data"
    }
   ],
   "source": [
    "from IPython.display import display, HTML\n",
    "\n",
    "# Example stats (replace with your actual computed values)\n",
    "total_media = len(netflix_df)\n",
    "nineties_media = len(df_90s)\n",
    "most_freq_duration = netflix_df[\"duration\"].mode()[0]\n",
    "short_movies = len(short_df)\n",
    "top_genres = netflix_df[\"genre\"].value_counts().head(3).index.tolist()\n",
    "\n",
    "# Create HTML box\n",
    "html_box = f\"\"\"\n",
    "<div style=\"\n",
    "    border: 2px solid #4CAF50;\n",
    "    border-radius: 10px;\n",
    "    padding: 15px;\n",
    "    background-color: #f9f9f9;\n",
    "    font-family: Arial, sans-serif;\n",
    "    width: 75%;\n",
    "    margin: 20px auto;\n",
    "    box-shadow: 2px 2px 8px rgba(0,0,0,0.1);\n",
    "\">\n",
    "  <h3 style=\"color:#4CAF50; text-align:center;\">📊 Netflix Data Summary</h3>\n",
    "  <ul style=\"line-height:1.8; font-size:16px;\">\n",
    "    <li><b>Total media on Netflix:</b> {total_media}</li>\n",
    "    <li><b>Media released in the 90s:</b> {nineties_media}</li>\n",
    "    <li><b>Most frequent movie duration:</b> {most_freq_duration}</li>\n",
    "    <li><b>Number of short movies:</b> {short_movies}</li>\n",
    "    <li><b>Top 3 genres:</b> {\", \".join(top_genres)}</li>\n",
    "  </ul>\n",
    "</div>\n",
    "\"\"\"\n",
    "\n",
    "display(HTML(html_box))\n"
   ]
  }
 ],
 "metadata": {
  "colab": {
   "name": "Welcome to DataCamp Workspaces.ipynb",
   "provenance": []
  },
  "editor": "DataLab",
  "kernelspec": {
   "display_name": "Python 3",
   "language": "python",
   "name": "python3"
  },
  "language_info": {
   "codemirror_mode": {
    "name": "ipython",
    "version": 3
   },
   "file_extension": ".py",
   "mimetype": "text/x-python",
   "name": "python",
   "nbconvert_exporter": "python",
   "pygments_lexer": "ipython3",
   "version": "3.12.3"
  }
 },
 "nbformat": 4,
 "nbformat_minor": 5
}
